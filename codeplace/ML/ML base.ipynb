{
 "cells": [
  {
   "cell_type": "markdown",
   "metadata": {},
   "source": [
    "База ML"
   ]
  },
  {
   "cell_type": "markdown",
   "metadata": {},
   "source": [
    "Нахождение среднего эмпирического риска по имеющейся входной, выходной выборке, коэффициентам модели и самой модели"
   ]
  },
  {
   "cell_type": "code",
   "execution_count": 4,
   "metadata": {},
   "outputs": [
    {
     "name": "stdout",
     "output_type": "stream",
     "text": [
      "0.010469526728196498\n"
     ]
    }
   ],
   "source": [
    "import numpy as np\n",
    "\n",
    "np.random.seed(0)\n",
    "x = np.arange(-1.0, 1.0, 0.1)\n",
    "\n",
    "size_train = len(x)\n",
    "w = [0.5, -0.3]\n",
    "model_a = lambda m_x, m_w: (m_w[1] * m_x + m_w[0])\n",
    "loss = lambda ax, y: (ax - y) ** 2\n",
    "\n",
    "y = model_a(x, w) + np.random.normal(0, 0.1, size_train)\n",
    "\n",
    "Q = loss(model_a(x, w), y).mean()\n",
    "print(Q)"
   ]
  },
  {
   "cell_type": "markdown",
   "metadata": {},
   "source": [
    "Нахождение коэффициентов модели по входным и выходным данным, а также с использованием производной по среднему эмпирическому риску"
   ]
  },
  {
   "cell_type": "code",
   "execution_count": 5,
   "metadata": {},
   "outputs": [
    {
     "name": "stdout",
     "output_type": "stream",
     "text": [
      "[[-5.14605924]\n",
      " [ 0.64014601]]\n"
     ]
    }
   ],
   "source": [
    "import numpy as np\n",
    "\n",
    "np.random.seed(0)\n",
    "x = np.arange(-1.0, 1.0, 0.1)\n",
    "\n",
    "\n",
    "model_a = lambda xx, ww: (ww[0] + ww[1] * xx)\n",
    "Y = -5.2 + 0.7 * x + np.random.normal(0, 0.1, len(x))\n",
    "\n",
    "Y = Y.reshape(-1, 1)\n",
    "x1 = np.ones((len(x), 1))\n",
    "x = x.reshape(-1, 1)\n",
    "X = np.hstack((x1, x))\n",
    "w = np.linalg.inv(X.T @ X) @ X.T @ Y\n",
    "print(w)"
   ]
  },
  {
   "cell_type": "code",
   "execution_count": 6,
   "metadata": {},
   "outputs": [
    {
     "name": "stdout",
     "output_type": "stream",
     "text": [
      "[ 0.12132278  4.16006063 -0.35256616 -4.19339165]\n"
     ]
    }
   ],
   "source": [
    "import numpy as np\n",
    "\n",
    "np.random.seed(0)\n",
    "x = np.arange(-1.0, 1.0, 0.1)\n",
    "\n",
    "\n",
    "model_a = lambda xx, ww: (ww[0] + ww[1] * xx + ww[2] * xx ** 2 + ww[3] * xx ** 3)\n",
    "Y = np.sin(x * 5) + 2 * x + np.random.normal(0, 0.1, len(x))\n",
    "\n",
    "X = np.array([[1, xx, xx**2, xx**3] for xx in x])\n",
    "\n",
    "w = np.linalg.inv(X.T @ X) @ X.T @ Y\n",
    "print(w)"
   ]
  },
  {
   "cell_type": "markdown",
   "metadata": {},
   "source": [
    "Создание модели и выходной выборки по входной выборке и коэффициентам модели, полученным вручную"
   ]
  },
  {
   "cell_type": "code",
   "execution_count": 7,
   "metadata": {},
   "outputs": [
    {
     "name": "stdout",
     "output_type": "stream",
     "text": [
      "[1, -1, -1, 1, -1, 1, 1]\n"
     ]
    }
   ],
   "source": [
    "import numpy as np\n",
    "\n",
    "x_test = [(5, -3), (-3, 8), (3, 6), (0, 0), (5, 3), (-3, -1), (-3, 3)]\n",
    "\n",
    "\n",
    "w = np.array([33/13, -9/13, -1])\n",
    "\n",
    "x_test = np.array([(1,) + tup for tup in x_test])\n",
    "\n",
    "model_a = lambda xx, ww: -1 if xx[0]*ww[0] + xx[1]*ww[1] + xx[2]*ww[2] < 0 else 1\n",
    "predict = [model_a(x, w) for x in x_test]\n",
    "print(predict)"
   ]
  },
  {
   "cell_type": "code",
   "execution_count": 8,
   "metadata": {},
   "outputs": [
    {
     "name": "stdout",
     "output_type": "stream",
     "text": [
      "[-1, 1, 1, -1, 1, -1, -1]\n"
     ]
    }
   ],
   "source": [
    "import numpy as np\n",
    "\n",
    "x_test = [(9, 6), (2, 4), (-3, -1), (3, -2), (-3, 6), (7, -3), (6, 2)]\n",
    "\n",
    "w = np.array([2.8, -1.4, 1])\n",
    "\n",
    "x_test = np.array([(1,) + tup for tup in x_test])\n",
    "\n",
    "model_a = lambda xx, ww: -1 if xx[0]*ww[0] + xx[1]*ww[1] + xx[2]*ww[2] < 0 else 1\n",
    "predict = [model_a(x, w) for x in x_test]\n",
    "print(predict)"
   ]
  },
  {
   "cell_type": "markdown",
   "metadata": {},
   "source": [
    "Подсчет отступов по имеющимся коэффициентам модели и по полученой вручную входной и выходной выборке"
   ]
  },
  {
   "cell_type": "code",
   "execution_count": 9,
   "metadata": {},
   "outputs": [
    {
     "name": "stdout",
     "output_type": "stream",
     "text": [
      "[16.42857143  2.71428571 11.          8.57142857]\n"
     ]
    }
   ],
   "source": [
    "import numpy as np\n",
    "\n",
    "w = np.array([15/7, -9/7, -1])\n",
    "x_test = np.array([(1, -8, -4), (1, -2, 2), (1, 4, 8), (1, 6, 3)])\n",
    "y_test = np.array([1, 1, -1, -1])\n",
    "\n",
    "margin = x_test @ w.T * y_test\n",
    "print(margin)"
   ]
  },
  {
   "cell_type": "markdown",
   "metadata": {},
   "source": [
    "Подсчет отступов по полученой вручную входной, выходной выборке и коэффициентам модели"
   ]
  },
  {
   "cell_type": "code",
   "execution_count": 10,
   "metadata": {},
   "outputs": [
    {
     "name": "stdout",
     "output_type": "stream",
     "text": [
      "[ 22  54 -10  55 -18  34]\n"
     ]
    }
   ],
   "source": [
    "import numpy as np\n",
    "\n",
    "w = np.array([-16, -4, 9])\n",
    "x_test = np.array([(1, -5, 2), (1, -4, 6), (1, 3, 2), (1, 3, -3), (1, 5, 6), (1, 9, 2)])\n",
    "y_test = np.array([1, 1, 1, -1, -1, -1])\n",
    "\n",
    "margin = x_test @ w.T * y_test\n",
    "print(margin)"
   ]
  },
  {
   "cell_type": "markdown",
   "metadata": {},
   "source": [
    "По входной, выходной выборке и коэффициентам модели нахождение показателя качества(нотация Айзерсона)"
   ]
  },
  {
   "cell_type": "code",
   "execution_count": null,
   "metadata": {},
   "outputs": [
    {
     "name": "stdout",
     "output_type": "stream",
     "text": [
      "2\n"
     ]
    }
   ],
   "source": [
    "import numpy as np\n",
    "\n",
    "x_test = np.array([(-5, 2), (-4, 6), (3, 2), (3, -3), (5, 5), (5, 2), (-1, 3)])\n",
    "y_test = np.array([1, 1, 1, -1, -1, -1, -1])\n",
    "w = np.array([-8/3, -2/3, 1])\n",
    "\n",
    "x_test = np.hstack((np.ones((x_test.shape[0], 1)), x_test))\n",
    "\n",
    "predictions = np.dot(x_test, w)\n",
    "\n",
    "Q = ((predictions * y_test) < 0).sum()\n",
    "print(Q)"
   ]
  },
  {
   "cell_type": "markdown",
   "metadata": {},
   "source": [
    "Нахождение среднего эмпирического риска по входной и выходной(полученной использованием функции) выборке с созданием модели и функции потерь\n",
    "1) Квадратичная функция потерь\n",
    "2) Абсолютная функция потерь"
   ]
  },
  {
   "cell_type": "code",
   "execution_count": 36,
   "metadata": {},
   "outputs": [
    {
     "name": "stdout",
     "output_type": "stream",
     "text": [
      "0.17749243683224197\n"
     ]
    }
   ],
   "source": [
    "import numpy as np\n",
    "\n",
    "def func(x):\n",
    "    return 0.1 * x**2 - np.sin(x) + 0.1 * np.cos(x * 5) + 1\n",
    "\n",
    "model_a = lambda xx, ww: ww[0]+ww[1]*xx+ww[2]*xx**2+ww[3]*xx**3+ww[4]*xx**4\n",
    "loss = lambda ax, fx: (ax-fx)**2\n",
    "\n",
    "w = np.array([1.11, -0.26, 0.061, 0.0226, 0.00178])\n",
    "\n",
    "coord_x = np.arange(-5.0, 5.0, 0.1)\n",
    "coord_y = func(coord_x)\n",
    "\n",
    "Q = loss(model_a(coord_x, w), coord_y).mean()\n",
    "print(Q)"
   ]
  },
  {
   "cell_type": "code",
   "execution_count": 37,
   "metadata": {},
   "outputs": [
    {
     "name": "stdout",
     "output_type": "stream",
     "text": [
      "0.9250026294525024\n"
     ]
    }
   ],
   "source": [
    "import numpy as np\n",
    "\n",
    "def func(x):\n",
    "    return 0.5 * x**2 - 0.1 * 1/np.exp(-x) + 0.5 * np.cos(2*x) - 2.\n",
    "\n",
    "model_a = lambda xx, ww: ww[0]+ww[1]*xx+ww[2]*xx**2+ww[3]*np.cos(2*xx)+ww[4]*np.sin(2*xx)\n",
    "loss = lambda ax, fx: np.abs(ax-fx)\n",
    "\n",
    "w = np.array([-1.59, -0.69, 0.278, 0.497, -0.106])\n",
    "\n",
    "coord_x = np.arange(-5.0, 5.0, 0.1)\n",
    "coord_y = func(coord_x)\n",
    "\n",
    "Q = loss(model_a(coord_x, w), coord_y).mean()\n",
    "print(Q)"
   ]
  },
  {
   "cell_type": "markdown",
   "metadata": {},
   "source": [
    "Финальное задание: бинарная классификация\n",
    "Квадратичная функция потерь"
   ]
  },
  {
   "cell_type": "code",
   "execution_count": 45,
   "metadata": {},
   "outputs": [],
   "source": [
    "import numpy as np\n",
    "\n",
    "data_x = np.array([(5.8, 1.2), (5.6, 1.5), (6.5, 1.5), (6.1, 1.3), (6.4, 1.3), (7.7, 2.0), (6.0, 1.8), (5.6, 1.3), (6.0, 1.6), (5.8, 1.9), (5.7, 2.0), (6.3, 1.5), (6.2, 1.8), (7.7, 2.3), (5.8, 1.2), (6.3, 1.8), (6.0, 1.0), (6.2, 1.3), (5.7, 1.3), (6.3, 1.9), (6.7, 2.5), (5.5, 1.2), (4.9, 1.0), (6.1, 1.4), (6.0, 1.6), (7.2, 2.5), (7.3, 1.8), (6.6, 1.4), (5.6, 2.0), (5.5, 1.0), (6.4, 2.2), (5.6, 1.3), (6.6, 1.3), (6.9, 2.1), (6.8, 2.1), (5.7, 1.3), (7.0, 1.4), (6.1, 1.4), (6.1, 1.8), (6.7, 1.7), (6.0, 1.5), (6.5, 1.8), (6.4, 1.5), (6.9, 1.5), (5.6, 1.3), (6.7, 1.4), (5.8, 1.9), (6.3, 1.3), (6.7, 2.1), (6.2, 2.3), (6.3, 2.4), (6.7, 1.8), (6.4, 2.3), (6.2, 1.5), (6.1, 1.4), (7.1, 2.1), (5.7, 1.0), (6.8, 1.4), (6.8, 2.3), (5.1, 1.1), (4.9, 1.7), (5.9, 1.8), (7.4, 1.9), (6.5, 2.0), (6.7, 1.5), (6.5, 2.0), (5.8, 1.0), (6.4, 2.1), (7.6, 2.1), (5.8, 2.4), (7.7, 2.2), (6.3, 1.5), (5.0, 1.0), (6.3, 1.6), (7.7, 2.3), (6.4, 1.9), (6.5, 2.2), (5.7, 1.2), (6.9, 2.3), (5.7, 1.3), (6.1, 1.2), (5.4, 1.5), (5.2, 1.4), (6.7, 2.3), (7.9, 2.0), (5.6, 1.1), (7.2, 1.8), (5.5, 1.3), (7.2, 1.6), (6.3, 2.5), (6.3, 1.8), (6.7, 2.4), (5.0, 1.0), (6.4, 1.8), (6.9, 2.3), (5.5, 1.3), (5.5, 1.1), (5.9, 1.5), (6.0, 1.5), (5.9, 1.8)])\n",
    "data_y = np.array([-1, -1, -1, -1, -1, 1, 1, -1, -1, 1, 1, -1, 1, 1, -1, 1, -1, -1, -1, 1, 1, -1, -1, -1, -1, 1, 1, -1, 1, -1, 1, -1, -1, 1, 1, -1, -1, 1, 1, -1, 1, 1, -1, -1, -1, -1, 1, -1, 1, 1, 1, 1, 1, -1, -1, 1, -1, -1, 1, -1, 1, -1, 1, 1, -1, 1, -1, 1, 1, 1, 1, 1, -1, -1, 1, 1, 1, -1, 1, -1, -1, -1, -1, 1, 1, -1, 1, -1, 1, 1, 1, 1, -1, 1, 1, -1, -1, -1, -1, 1])\n",
    "\n",
    "data_x = np.hstack((np.ones((data_x.shape[0], 1)), data_x))\n",
    "\n",
    "w = (data_x.T @ data_y) @ (np.linalg.inv(data_x.T @ data_x))"
   ]
  },
  {
   "cell_type": "code",
   "execution_count": 46,
   "metadata": {},
   "outputs": [
    {
     "data": {
      "image/png": "[encoded data removed]",
      "text/plain": [
       "<Figure size 1000x600 with 1 Axes>"
      ]
     },
     "metadata": {},
     "output_type": "display_data"
    }
   ],
   "source": [
    "import matplotlib.pyplot as plt\n",
    "\n",
    "plt.figure(figsize=(10, 6))\n",
    "\n",
    "plt.scatter(data_x[data_y == 1][:, 1], data_x[data_y == 1][:, 2], color='blue', label='Класс 1')\n",
    "plt.scatter(data_x[data_y == -1][:, 1], data_x[data_y == -1][:, 2], color='red', label='Класс -1')\n",
    "\n",
    "x_vals = np.linspace(4.5, 8.0, 100)\n",
    "y_vals = -(w[0] + w[1] * x_vals) / w[2]\n",
    "plt.plot(x_vals, y_vals, color='black', label='Гиперплоскость')\n",
    "\n",
    "plt.xlabel('Feature 1')\n",
    "plt.ylabel('Feature 2')\n",
    "plt.title('График данных и гиперплоскости')\n",
    "plt.axhline(0, color='black', lw=0.5, ls='--')\n",
    "plt.axvline(0, color='black', lw=0.5, ls='--')\n",
    "plt.xlim(4.5, 8.0)\n",
    "plt.ylim(1.0, 2.5)\n",
    "plt.legend()\n",
    "plt.grid()\n",
    "plt.show()"
   ]
  }
 ],
 "metadata": {
  "kernelspec": {
   "display_name": "Python 3",
   "language": "python",
   "name": "python3"
  },
  "language_info": {
   "codemirror_mode": {
    "name": "ipython",
    "version": 3
   },
   "file_extension": ".py",
   "mimetype": "text/x-python",
   "name": "python",
   "nbconvert_exporter": "python",
   "pygments_lexer": "ipython3",
   "version": "3.13.0"
  }
 },
 "nbformat": 4,
 "nbformat_minor": 2
}
